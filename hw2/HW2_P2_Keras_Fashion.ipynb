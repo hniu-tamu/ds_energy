{
  "cells": [
    {
      "cell_type": "markdown",
      "metadata": {
        "id": "view-in-github",
        "colab_type": "text"
      },
      "source": [
        "<a href=\"https://colab.research.google.com/github/hniu-tamu/ds_energy/blob/main/hw2/HW2_P2_Keras_Fashion.ipynb\" target=\"_parent\"><img src=\"https://colab.research.google.com/assets/colab-badge.svg\" alt=\"Open In Colab\"/></a>"
      ]
    },
    {
      "cell_type": "markdown",
      "metadata": {
        "id": "Tn0LUzTkL8Cm",
        "pycharm": {
          "name": "#%% md\n"
        }
      },
      "source": [
        "# Classify Fashion Icons with Keras\n",
        "## Spring 2025 - ICPE 638\n",
        "\n",
        "[Haoyu Niu](https://orcid.org/0000-0002-7052-8877), Texas A&M University\n",
        "\n",
        "Updated: Jan. 29, 2025.\n",
        "\n",
        "HW Grade Points: 12/20\n",
        "\n",
        "- Name:\n",
        "- GitHub or Google colab link:\n",
        "\n",
        "### Intructions\n",
        "\n",
        "1. Train a deep learning model with only Dense layers with the same number of neurons in each layer. Tune the number of neurons and other hyperparameters to reach at least 87% test accuracy (30 pts).\n",
        "\n",
        "2. Double the number of layers used in #1, retrain the model without changing anything else, and explain the new accuracy reached. Is the new model better? If yes, why? If not, why not? (20 pts).\n",
        "\n",
        "3. Double the number of neurons in each layer used in #1, retrain the model without changing anything else, and explain the new accuracy obtained. Is the new model better? If yes, why? If not, why not? (20 pts)\n",
        "\n",
        "4. What else can you do to improve the accuracy of your model? (30 pts)\n",
        "    Please propose up to 3 strategies. 10 pts will be given for each proven strategy. You need to apply your strategy and retrain the model to prove it."
      ]
    },
    {
      "cell_type": "markdown",
      "metadata": {
        "id": "vWusK-o2dAJI"
      },
      "source": []
    },
    {
      "cell_type": "code",
      "execution_count": null,
      "metadata": {
        "id": "r84SykyrL8Cm",
        "pycharm": {
          "name": "#%%\n"
        }
      },
      "outputs": [],
      "source": [
        "%load_ext tensorboard\n",
        "from tensorflow.keras import utils, callbacks, models\n",
        "from tensorflow.keras.datasets import fashion_mnist\n",
        "from tensorflow.keras.models import Sequential\n",
        "from tensorflow.keras.layers import Dense,Flatten\n",
        "import matplotlib.pyplot as plt\n",
        "import numpy as np\n",
        "import os, datetime"
      ]
    },
    {
      "cell_type": "code",
      "execution_count": null,
      "metadata": {
        "colab": {
          "base_uri": "https://localhost:8080/"
        },
        "id": "cmxng7RWL8Cm",
        "outputId": "f6d44843-266a-44c0-c29c-7a536a55594d",
        "pycharm": {
          "name": "#%%\n"
        }
      },
      "outputs": [
        {
          "output_type": "stream",
          "name": "stdout",
          "text": [
            "Downloading data from https://storage.googleapis.com/tensorflow/tf-keras-datasets/train-labels-idx1-ubyte.gz\n",
            "29515/29515 [==============================] - 0s 0us/step\n",
            "Downloading data from https://storage.googleapis.com/tensorflow/tf-keras-datasets/train-images-idx3-ubyte.gz\n",
            "26421880/26421880 [==============================] - 1s 0us/step\n",
            "Downloading data from https://storage.googleapis.com/tensorflow/tf-keras-datasets/t10k-labels-idx1-ubyte.gz\n",
            "5148/5148 [==============================] - 0s 0us/step\n",
            "Downloading data from https://storage.googleapis.com/tensorflow/tf-keras-datasets/t10k-images-idx3-ubyte.gz\n",
            "4422102/4422102 [==============================] - 0s 0us/step\n"
          ]
        }
      ],
      "source": [
        "(X_train, y_train), (X_test, y_test) = fashion_mnist.load_data()"
      ]
    },
    {
      "cell_type": "code",
      "execution_count": null,
      "metadata": {
        "id": "cXpAfP_dL8Cn",
        "pycharm": {
          "name": "#%%\n"
        }
      },
      "outputs": [],
      "source": [
        "# show the first image in the data set\n",
        "plt.imshow(X_train[0], cmap=\"gray\") # Import the image\n",
        "plt.show() # Plot the image"
      ]
    }
  ],
  "metadata": {
    "colab": {
      "provenance": [],
      "include_colab_link": true
    },
    "kernelspec": {
      "display_name": "tensorflow-apple-sillicon",
      "language": "python",
      "name": "python3"
    },
    "language_info": {
      "codemirror_mode": {
        "name": "ipython",
        "version": 3
      },
      "file_extension": ".py",
      "mimetype": "text/x-python",
      "name": "python",
      "nbconvert_exporter": "python",
      "pygments_lexer": "ipython3",
      "version": "3.9.15"
    },
    "vscode": {
      "interpreter": {
        "hash": "6038a99827bc0937dc1a04b662e99bd5e97a57d601faa9d169aec452a17053e6"
      }
    }
  },
  "nbformat": 4,
  "nbformat_minor": 0
}