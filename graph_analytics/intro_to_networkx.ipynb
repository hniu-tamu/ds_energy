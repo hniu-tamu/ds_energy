{
  "cells": [
    {
      "cell_type": "markdown",
      "metadata": {
        "id": "view-in-github",
        "colab_type": "text"
      },
      "source": [
        "<a href=\"https://colab.research.google.com/github/hniu-tamu/ds_energy/blob/main/graph_analytics/intro_to_networkx.ipynb\" target=\"_parent\"><img src=\"https://colab.research.google.com/assets/colab-badge.svg\" alt=\"Open In Colab\"/></a>"
      ]
    },
    {
      "cell_type": "markdown",
      "metadata": {
        "id": "Y6hqq33qG-vC"
      },
      "source": [
        "# Graph Analytics with NetworkX\n",
        "\n",
        "Haoyu Niu, Texas A&M University\n",
        "\n",
        "Feb 18, 2025\n",
        "\n",
        "Adopted from\n",
        "\n",
        "**the NetworkX tutorial**\n",
        "\n",
        "at https://networkx.github.io/documentation/stable/tutorial.html"
      ]
    },
    {
      "cell_type": "code",
      "execution_count": null,
      "metadata": {
        "id": "l7bUno5zG-vE"
      },
      "outputs": [],
      "source": [
        "%matplotlib inline\n",
        "import networkx as nx\n",
        "import matplotlib.pyplot as plt\n",
        "import matplotlib.colors as mcolors"
      ]
    },
    {
      "cell_type": "markdown",
      "metadata": {
        "id": "wha6BNIZG-vF"
      },
      "source": [
        "### Create a graph\n",
        "By definition, a Graph is a collection of nodes (vertices) along with identified pairs of nodes (called edges, links, etc). In NetworkX, nodes can be any hashable object e.g., a text string, an image, an XML object, another Graph, a customized node object, etc.\n",
        "\n",
        "NetworkX contains functions to **CRUD (Create, Read, Update, and Delete)** graphs."
      ]
    },
    {
      "cell_type": "code",
      "execution_count": null,
      "metadata": {
        "id": "Spwmku5pG-vG"
      },
      "outputs": [],
      "source": [
        "G = nx.Graph()"
      ]
    },
    {
      "cell_type": "code",
      "execution_count": null,
      "metadata": {
        "id": "w69rxL2JG-vG"
      },
      "outputs": [],
      "source": [
        "G.add_node(1)"
      ]
    },
    {
      "cell_type": "code",
      "execution_count": null,
      "metadata": {
        "id": "EgHZ3wqbG-vG"
      },
      "outputs": [],
      "source": [
        "G.add_nodes_from([2,3])"
      ]
    },
    {
      "cell_type": "code",
      "execution_count": null,
      "metadata": {
        "id": "hOVCiEY0G-vH"
      },
      "outputs": [],
      "source": [
        "G.nodes()"
      ]
    },
    {
      "cell_type": "code",
      "execution_count": null,
      "metadata": {
        "id": "XuqWhUcGG-vH"
      },
      "outputs": [],
      "source": [
        "G.add_edge(1,2)"
      ]
    },
    {
      "cell_type": "code",
      "execution_count": null,
      "metadata": {
        "id": "KFB6bCBeG-vH"
      },
      "outputs": [],
      "source": [
        "G.add_edges_from([(1,2),(1,3), (2,3)])"
      ]
    },
    {
      "cell_type": "code",
      "execution_count": null,
      "metadata": {
        "id": "Kw8e6rrzG-vI"
      },
      "outputs": [],
      "source": [
        "G.edges()"
      ]
    },
    {
      "cell_type": "code",
      "execution_count": null,
      "metadata": {
        "id": "HgEHZph3G-vI"
      },
      "outputs": [],
      "source": [
        "nx.draw(G, with_labels=True, node_size=3000, node_color=\"g\", font_size=20)"
      ]
    },
    {
      "cell_type": "markdown",
      "metadata": {
        "id": "ASqkenxRG-vI"
      },
      "source": [
        "One can remove nodes and edges from the graph in a similar fashion to adding. Use methods Graph.remove_node(), Graph.remove_nodes_from(), Graph.remove_edge() and Graph.remove_edges_from(), e.g."
      ]
    },
    {
      "cell_type": "code",
      "execution_count": null,
      "metadata": {
        "id": "DjqwIeR8G-vI"
      },
      "outputs": [],
      "source": [
        "G.remove_node(2)"
      ]
    },
    {
      "cell_type": "code",
      "execution_count": null,
      "metadata": {
        "id": "pwyCFHI6G-vJ"
      },
      "outputs": [],
      "source": [
        "G.edges()"
      ]
    },
    {
      "cell_type": "code",
      "execution_count": null,
      "metadata": {
        "id": "gAc6c8ZWG-vJ"
      },
      "outputs": [],
      "source": [
        "G.number_of_edges() # total number of edges"
      ]
    },
    {
      "cell_type": "code",
      "execution_count": null,
      "metadata": {
        "id": "8wUfv5ZyG-vJ"
      },
      "outputs": [],
      "source": [
        "G.number_of_nodes() # total number of nodes"
      ]
    },
    {
      "cell_type": "code",
      "execution_count": null,
      "metadata": {
        "id": "B7-D7u-5G-vJ"
      },
      "outputs": [],
      "source": [
        "G.degree[1] # the number of edges incident to 1"
      ]
    },
    {
      "cell_type": "code",
      "execution_count": null,
      "metadata": {
        "id": "vAQJcZ8-G-vJ"
      },
      "outputs": [],
      "source": [
        "G.clear() # removing all nodes and edges"
      ]
    },
    {
      "cell_type": "markdown",
      "metadata": {
        "id": "WJoaNwAHG-vJ"
      },
      "source": [
        "### Accessing edges and neighbors\n",
        "In addition to the views Graph.edges(), and Graph.adj(), access to edges and neighbors is possible using subscript notation. You can get/set the attributes of an edge using subscript notation if the edge already exists."
      ]
    },
    {
      "cell_type": "markdown",
      "metadata": {
        "id": "Vco1UkvgG-vJ"
      },
      "source": [
        "### Other built-in graphs from NetworkX\n",
        "NetworkX contains the generators for some classic graphs.\n",
        "\n",
        "You can find more information about the Graph Generators at the [NetworkX documentation](https://networkx.github.io/documentation/latest/reference/generators.html) page."
      ]
    },
    {
      "cell_type": "code",
      "execution_count": null,
      "metadata": {
        "id": "ci7hOMYLG-vJ"
      },
      "outputs": [],
      "source": [
        "G = nx.complete_graph(5)\n",
        "nx.draw(G)"
      ]
    },
    {
      "cell_type": "code",
      "execution_count": null,
      "metadata": {
        "id": "63Qa8WfFG-vJ"
      },
      "outputs": [],
      "source": [
        "G = nx.cycle_graph(10)\n",
        "nx.draw(G)"
      ]
    },
    {
      "cell_type": "code",
      "execution_count": null,
      "metadata": {
        "id": "Ag2REUUiG-vK"
      },
      "outputs": [],
      "source": [
        "G = nx.lollipop_graph(5, 8)\n",
        "nx.draw(G)"
      ]
    },
    {
      "cell_type": "code",
      "execution_count": null,
      "metadata": {
        "id": "KKCkPelBG-vK"
      },
      "outputs": [],
      "source": [
        "G = nx.path_graph(10)\n",
        "nx.draw(G)"
      ]
    },
    {
      "cell_type": "code",
      "execution_count": null,
      "metadata": {
        "id": "34d7lU2bG-vK"
      },
      "outputs": [],
      "source": [
        "G = nx.star_graph(10)\n",
        "nx.draw(G)"
      ]
    },
    {
      "cell_type": "code",
      "execution_count": null,
      "metadata": {
        "id": "tzSUlTeFG-vK"
      },
      "outputs": [],
      "source": [
        "G = nx.wheel_graph(10)\n",
        "nx.draw(G)"
      ]
    },
    {
      "cell_type": "code",
      "execution_count": null,
      "metadata": {
        "id": "Qb-lx9BSG-vK"
      },
      "outputs": [],
      "source": [
        "G = nx.ladder_graph(10)\n",
        "nx.draw(G)"
      ]
    },
    {
      "cell_type": "code",
      "execution_count": null,
      "metadata": {
        "id": "RTfD8KX7G-vK"
      },
      "outputs": [],
      "source": [
        "G = nx.balanced_tree(5, 2)\n",
        "nx.draw(G)"
      ]
    },
    {
      "cell_type": "code",
      "execution_count": null,
      "metadata": {
        "id": "aOHqrL54G-vK"
      },
      "outputs": [],
      "source": [
        "G = nx.barbell_graph(5, 2)\n",
        "nx.draw(G)"
      ]
    },
    {
      "cell_type": "markdown",
      "metadata": {
        "id": "GpVMkj2vG-vK"
      },
      "source": [
        "NetworkX also provides functions for generating grid graphs and lattices."
      ]
    },
    {
      "cell_type": "code",
      "execution_count": null,
      "metadata": {
        "id": "4VoJI3daG-vK"
      },
      "outputs": [],
      "source": [
        "G = nx.grid_2d_graph(4,4)\n",
        "nx.draw(G)"
      ]
    },
    {
      "cell_type": "code",
      "execution_count": null,
      "metadata": {
        "id": "4N_SUo_7G-vL"
      },
      "outputs": [],
      "source": [
        "G = nx.hypercube_graph(4)\n",
        "nx.draw(G)"
      ]
    },
    {
      "cell_type": "code",
      "execution_count": null,
      "metadata": {
        "id": "9ArRJ-xGG-vL"
      },
      "outputs": [],
      "source": [
        "G = nx.triangular_lattice_graph(3, 3)\n",
        "nx.draw(G)"
      ]
    },
    {
      "cell_type": "markdown",
      "metadata": {
        "id": "ipTuHGZ3G-vL"
      },
      "source": [
        "NetworkX also can generate many small pre-defined graphs and random graphs"
      ]
    },
    {
      "cell_type": "code",
      "execution_count": null,
      "metadata": {
        "id": "O6cyASZTG-vL"
      },
      "outputs": [],
      "source": [
        "G = nx.pappus_graph()\n",
        "nx.draw(G)"
      ]
    },
    {
      "cell_type": "code",
      "execution_count": null,
      "metadata": {
        "id": "r4J-bOVKG-vL"
      },
      "outputs": [],
      "source": [
        "G = nx.gnm_random_graph(3, 4)\n",
        "nx.draw(G)"
      ]
    },
    {
      "cell_type": "markdown",
      "metadata": {
        "id": "M2hf3a7jG-vL"
      },
      "source": [
        "### Social Networks\n",
        "NetworkX provides some famous social networks.\n",
        "\n",
        "Zachary's karate club is a social network of a university karate club, described in the paper \"An Information Flow Model for Conflict and Fission in Small Groups\" by Wayne W. Zachary. The network became a popular example of community structure in networks after its use by Michelle Girvan and Mark Newman in 2002. [Wikipedia Entry](https://en.wikipedia.org/wiki/Zachary%27s_karate_club)\n",
        "\n",
        "The standard 78-edge network data set for Zachary's karate club is publicly available on the internet.[3] The data can be summarized as list of integer pairs. Each integer represents one karate club member and a pair indicates the two members interacted. The data set is summarized below and also in the adjoining image. Node 1 stands for the instructor, node 34 for the club administrator / president."
      ]
    },
    {
      "cell_type": "code",
      "execution_count": null,
      "metadata": {
        "id": "E38R26-rG-vL"
      },
      "outputs": [],
      "source": [
        "G = nx.karate_club_graph()\n",
        "nx.draw(G) # Zachary’s Karate Club graph."
      ]
    },
    {
      "cell_type": "code",
      "execution_count": null,
      "metadata": {
        "id": "vTrDOVSnG-vL"
      },
      "outputs": [],
      "source": [
        "def mydraw(G, measures, measure_name):\n",
        "    pos = nx.spring_layout(G)\n",
        "    plt.figure(figsize=(12,12))\n",
        "    nodes = nx.draw_networkx_nodes(G, pos, node_size=500, cmap=plt.cm.plasma,\n",
        "                                   node_color=list(measures.values()),\n",
        "                                   nodelist=list(measures.keys()))\n",
        "    nodes.set_norm(mcolors.SymLogNorm(linthresh=0.1, linscale=1))\n",
        "\n",
        "    labels = nx.draw_networkx_labels(G, pos)\n",
        "    edges = nx.draw_networkx_edges(G, pos)\n",
        "    plt.title(measure_name)\n",
        "    plt.colorbar(nodes)\n",
        "    plt.axis('off')\n",
        "    plt.show()"
      ]
    },
    {
      "cell_type": "markdown",
      "metadata": {
        "id": "FlT_iCXyG-vU"
      },
      "source": [
        "### Graph Analytics Concetps"
      ]
    },
    {
      "cell_type": "code",
      "execution_count": null,
      "metadata": {
        "id": "Haycf637G-vU"
      },
      "outputs": [],
      "source": [
        "plt.figure(figsize=(12,12))\n",
        "G = nx.karate_club_graph()\n",
        "pos = nx.spring_layout(G)\n",
        "nx.draw(G, pos, with_labels=True) # Zachary’s Karate Club graph."
      ]
    },
    {
      "cell_type": "code",
      "execution_count": null,
      "metadata": {
        "id": "CHX3cbRqG-vU"
      },
      "outputs": [],
      "source": [
        "measure = nx.degree_centrality(G)\n",
        "mydraw(G, measure, 'Degree Centrality')"
      ]
    },
    {
      "cell_type": "code",
      "execution_count": null,
      "metadata": {
        "id": "NSE-swETG-vU"
      },
      "outputs": [],
      "source": [
        "measure = nx.betweenness_centrality(G)\n",
        "mydraw(G, measure, 'Betweenness Centrality')"
      ]
    },
    {
      "cell_type": "code",
      "execution_count": null,
      "metadata": {
        "id": "FKpEoHzxG-vU"
      },
      "outputs": [],
      "source": [
        "measure = nx.closeness_centrality(G)\n",
        "mydraw(G, measure, 'Closeness Centrality')"
      ]
    },
    {
      "cell_type": "markdown",
      "metadata": {
        "id": "i4ID0_rIG-vU"
      },
      "source": [
        "### Density\n",
        "\n",
        "Density measures how many edges a Graph has. The density for undirected graphs is\n",
        "    $$d = \\frac{2m}{n(n-1)}$$\n",
        "    and for directed graphs is\n",
        "    $$d = \\frac{m}{n(n-1)},$$\n",
        "    where `n` is the number of nodes and `m`  is the number of edges in `G`.\n"
      ]
    },
    {
      "cell_type": "code",
      "execution_count": null,
      "metadata": {
        "id": "_yKyCXjHG-vV"
      },
      "outputs": [],
      "source": [
        "nx.density(G)"
      ]
    },
    {
      "cell_type": "markdown",
      "metadata": {
        "id": "U6fkmjeZG-vV"
      },
      "source": [
        "### Average Shortest Path Length\n",
        "It is a concept in network topology that is defined as the average number of steps along the shortest paths for all possible pairs of network nodes. It is a measure of the efficiency of information or mass transport on a network.\n"
      ]
    },
    {
      "cell_type": "code",
      "execution_count": null,
      "metadata": {
        "id": "pft9Y79xG-vV"
      },
      "outputs": [],
      "source": [
        "nx.average_shortest_path_length(G)"
      ]
    },
    {
      "cell_type": "markdown",
      "metadata": {
        "id": "TW3b5MpdG-vV"
      },
      "source": [
        "### Efficiency\n",
        "nx.efficiency (G, u, v) returns the efficiency of a pair of nodes (u, v) in a graph G."
      ]
    },
    {
      "cell_type": "code",
      "execution_count": null,
      "metadata": {
        "id": "t53BwDjGG-vV"
      },
      "outputs": [],
      "source": [
        "nx.efficiency(G, 0,32)"
      ]
    },
    {
      "cell_type": "markdown",
      "metadata": {
        "id": "Hu9riMboG-vV"
      },
      "source": [
        "### Average Degree Connectivity\n",
        "For a node of degree k - What is the average of its neighbours' degree?"
      ]
    },
    {
      "cell_type": "code",
      "execution_count": null,
      "metadata": {
        "id": "gROpVI9hG-vV"
      },
      "outputs": [],
      "source": [
        "nx.average_degree_connectivity(G)"
      ]
    },
    {
      "cell_type": "markdown",
      "metadata": {
        "id": "s5VPitzXG-vV"
      },
      "source": [
        "### Path Exploration\n",
        "Find all the paths available"
      ]
    },
    {
      "cell_type": "code",
      "execution_count": null,
      "metadata": {
        "id": "MXau-qwsG-vV"
      },
      "outputs": [],
      "source": [
        "for p in nx.all_simple_paths(G, source=11, target=0):\n",
        "    print (p)"
      ]
    },
    {
      "cell_type": "markdown",
      "metadata": {
        "id": "I8EQtVnOG-vW"
      },
      "source": [
        "### Dijkstra /ˈdaɪkstrə/ Shortest Path\n",
        "Dijkstra's algorithm (or Dijkstra's Shortest Path First algorithm, SPF algorithm) is an algorithm for finding the shortest paths between nodes in a graph, which may represent, for example, road networks. It was conceived by computer scientist Edsger W. Dijkstra in 1956 and published three years later.\n"
      ]
    },
    {
      "cell_type": "code",
      "execution_count": null,
      "metadata": {
        "id": "BbEAqAopG-vW"
      },
      "outputs": [],
      "source": [
        "nx.dijkstra_path(G, source=1, target=27)"
      ]
    },
    {
      "cell_type": "code",
      "execution_count": null,
      "metadata": {
        "id": "R0TxHM3UG-vW"
      },
      "outputs": [],
      "source": [
        "nx.shortest_path(G, source=1, target=27)"
      ]
    },
    {
      "cell_type": "code",
      "execution_count": null,
      "metadata": {
        "id": "VY_0kuOyG-vW"
      },
      "outputs": [],
      "source": [
        "nx.shortest_path_length(G, source=1, target=27)"
      ]
    },
    {
      "cell_type": "markdown",
      "metadata": {
        "id": "7aIXcpXhG-vW"
      },
      "source": [
        "### Depth First Search\n",
        "Basic algorithms for depth-first searching.\n",
        "Based on http://www.ics.uci.edu/~eppstein/PADS/DFS.py by D. Eppstein, July 2004."
      ]
    },
    {
      "cell_type": "code",
      "execution_count": null,
      "metadata": {
        "id": "O3HWYT75G-vW"
      },
      "outputs": [],
      "source": [
        "plt.figure(figsize=(12,12))\n",
        "nx.draw(G, pos, with_labels=True)"
      ]
    },
    {
      "cell_type": "code",
      "execution_count": null,
      "metadata": {
        "id": "2ZPbhLhdG-vW"
      },
      "outputs": [],
      "source": [
        "plt.figure(figsize=(12,12))\n",
        "nx.draw(nx.dfs_tree(G, 0), pos, with_labels=True)"
      ]
    },
    {
      "cell_type": "markdown",
      "metadata": {
        "id": "l4Tepw5DG-vW"
      },
      "source": [
        "### Breadth First Search\n",
        "Basic algorithms for breadth-first searching."
      ]
    },
    {
      "cell_type": "code",
      "execution_count": null,
      "metadata": {
        "id": "Qnf-YofZG-vW"
      },
      "outputs": [],
      "source": [
        "plt.figure(figsize=(12,12))\n",
        "nx.draw(nx.bfs_tree(G, 0), pos, with_labels=True)"
      ]
    }
  ],
  "metadata": {
    "kernelspec": {
      "display_name": "Python 3 (ipykernel)",
      "language": "python",
      "name": "python3"
    },
    "language_info": {
      "codemirror_mode": {
        "name": "ipython",
        "version": 3
      },
      "file_extension": ".py",
      "mimetype": "text/x-python",
      "name": "python",
      "nbconvert_exporter": "python",
      "pygments_lexer": "ipython3",
      "version": "3.11.4"
    },
    "colab": {
      "provenance": [],
      "include_colab_link": true
    }
  },
  "nbformat": 4,
  "nbformat_minor": 0
}